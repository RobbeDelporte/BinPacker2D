{
 "cells": [
  {
   "cell_type": "code",
   "execution_count": 25,
   "metadata": {},
   "outputs": [],
   "source": [
    "import numpy as np\n",
    "import pandas as pd\n",
    "import networkx as nx\n",
    "import matplotlib.pyplot as plt"
   ]
  },
  {
   "cell_type": "code",
   "execution_count": 2,
   "metadata": {},
   "outputs": [],
   "source": [
    "df = pd.read_csv('Packed_items.csv')"
   ]
  },
  {
   "cell_type": "code",
   "execution_count": 3,
   "metadata": {},
   "outputs": [
    {
     "data": {
      "text/html": [
       "<div>\n",
       "<style scoped>\n",
       "    .dataframe tbody tr th:only-of-type {\n",
       "        vertical-align: middle;\n",
       "    }\n",
       "\n",
       "    .dataframe tbody tr th {\n",
       "        vertical-align: top;\n",
       "    }\n",
       "\n",
       "    .dataframe thead th {\n",
       "        text-align: right;\n",
       "    }\n",
       "</style>\n",
       "<table border=\"1\" class=\"dataframe\">\n",
       "  <thead>\n",
       "    <tr style=\"text-align: right;\">\n",
       "      <th></th>\n",
       "      <th>Order_ID</th>\n",
       "      <th>Layer_Index</th>\n",
       "      <th>Product_ID</th>\n",
       "      <th>x</th>\n",
       "      <th>y</th>\n",
       "      <th>w</th>\n",
       "      <th>h</th>\n",
       "      <th>Quantity</th>\n",
       "    </tr>\n",
       "  </thead>\n",
       "  <tbody>\n",
       "    <tr>\n",
       "      <th>0</th>\n",
       "      <td>1</td>\n",
       "      <td>0</td>\n",
       "      <td>2</td>\n",
       "      <td>0</td>\n",
       "      <td>0</td>\n",
       "      <td>95</td>\n",
       "      <td>58</td>\n",
       "      <td>10</td>\n",
       "    </tr>\n",
       "    <tr>\n",
       "      <th>1</th>\n",
       "      <td>1</td>\n",
       "      <td>0</td>\n",
       "      <td>5</td>\n",
       "      <td>0</td>\n",
       "      <td>58</td>\n",
       "      <td>116</td>\n",
       "      <td>38</td>\n",
       "      <td>8</td>\n",
       "    </tr>\n",
       "    <tr>\n",
       "      <th>2</th>\n",
       "      <td>1</td>\n",
       "      <td>0</td>\n",
       "      <td>0</td>\n",
       "      <td>95</td>\n",
       "      <td>0</td>\n",
       "      <td>19</td>\n",
       "      <td>58</td>\n",
       "      <td>2</td>\n",
       "    </tr>\n",
       "    <tr>\n",
       "      <th>3</th>\n",
       "      <td>1</td>\n",
       "      <td>1</td>\n",
       "      <td>4</td>\n",
       "      <td>0</td>\n",
       "      <td>0</td>\n",
       "      <td>58</td>\n",
       "      <td>57</td>\n",
       "      <td>6</td>\n",
       "    </tr>\n",
       "    <tr>\n",
       "      <th>4</th>\n",
       "      <td>1</td>\n",
       "      <td>1</td>\n",
       "      <td>12</td>\n",
       "      <td>0</td>\n",
       "      <td>57</td>\n",
       "      <td>80</td>\n",
       "      <td>26</td>\n",
       "      <td>2</td>\n",
       "    </tr>\n",
       "  </tbody>\n",
       "</table>\n",
       "</div>"
      ],
      "text/plain": [
       "   Order_ID  Layer_Index  Product_ID   x   y    w   h  Quantity\n",
       "0         1            0           2   0   0   95  58        10\n",
       "1         1            0           5   0  58  116  38         8\n",
       "2         1            0           0  95   0   19  58         2\n",
       "3         1            1           4   0   0   58  57         6\n",
       "4         1            1          12   0  57   80  26         2"
      ]
     },
     "execution_count": 3,
     "metadata": {},
     "output_type": "execute_result"
    }
   ],
   "source": [
    "df.head()"
   ]
  },
  {
   "cell_type": "code",
   "execution_count": 37,
   "metadata": {},
   "outputs": [
    {
     "name": "stdout",
     "output_type": "stream",
     "text": [
      "715\n",
      "0         5\n",
      "1         8\n",
      "2        15\n",
      "3        16\n",
      "4        22\n",
      "       ... \n",
      "710    2484\n",
      "711    2485\n",
      "712    2493\n",
      "713    2494\n",
      "714    2496\n",
      "Name: Order_ID, Length: 715, dtype: int64\n"
     ]
    }
   ],
   "source": [
    "failed_checks = []\n",
    "\n",
    "\n",
    "for order_id, order in df.groupby('Order_ID'):\n",
    "    for layer_id, layer in order.groupby('Layer_Index'):\n",
    "        #iterate over all orders and layers\n",
    "\n",
    "        product_ids = layer['Product_ID'].values\n",
    "        i, c = np.unique(product_ids, return_counts=True)\n",
    "        ids_to_check = i[c > 1]\n",
    "        if ids_to_check.size == 0:\n",
    "            continue\n",
    "\n",
    "        for item_id in ids_to_check:\n",
    "            \n",
    "            connection_graph = nx.Graph()\n",
    "            items_to_check = layer[layer['Product_ID'] == item_id]\n",
    "\n",
    "            for i, item in items_to_check.iterrows():\n",
    "\n",
    "                connection_graph.add_node(i)\n",
    "                for node in connection_graph.nodes:\n",
    "                    other_item = items_to_check.loc[node]\n",
    "\n",
    "                    e = 1\n",
    "\n",
    "                    x_overlap = max(item.x-e,other_item.x)\n",
    "                    y_overlap = max(item.y-e,other_item.y)\n",
    "                    w_overlap = min(item.x+item.w+e,other_item.x+other_item.w) - x_overlap\n",
    "                    h_overlap = min(item.y+item.h+e,other_item.y+other_item.h) - y_overlap\n",
    "\n",
    "                    if w_overlap > 0 and h_overlap > 0:\n",
    "                        connection_graph.add_edge(i,node)\n",
    "\n",
    "\n",
    "\n",
    "            if not nx.is_connected(connection_graph):\n",
    "                failed_checks.append((order_id, layer_id, item_id))\n",
    "\n",
    "\n",
    "failed_checks_df = pd.DataFrame(failed_checks, columns=['Order_ID', 'Layer_Index', 'Product_ID'])\n",
    "print(len(failed_checks_df))\n",
    "print(failed_checks_df['Order_ID'])\n",
    "\n",
    "\n",
    "        \n",
    "\n"
   ]
  },
  {
   "cell_type": "code",
   "execution_count": null,
   "metadata": {},
   "outputs": [],
   "source": [
    "    "
   ]
  }
 ],
 "metadata": {
  "kernelspec": {
   "display_name": "py310",
   "language": "python",
   "name": "python3"
  },
  "language_info": {
   "codemirror_mode": {
    "name": "ipython",
    "version": 3
   },
   "file_extension": ".py",
   "mimetype": "text/x-python",
   "name": "python",
   "nbconvert_exporter": "python",
   "pygments_lexer": "ipython3",
   "version": "3.10.13"
  },
  "orig_nbformat": 4
 },
 "nbformat": 4,
 "nbformat_minor": 2
}
