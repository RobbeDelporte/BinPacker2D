{
 "cells": [
  {
   "cell_type": "code",
   "execution_count": 182,
   "metadata": {},
   "outputs": [
    {
     "name": "stdout",
     "output_type": "stream",
     "text": [
      "The autoreload extension is already loaded. To reload it, use:\n",
      "  %reload_ext autoreload\n",
      "The line_profiler extension is already loaded. To reload it, use:\n",
      "  %reload_ext line_profiler\n"
     ]
    }
   ],
   "source": [
    "%load_ext autoreload\n",
    "%load_ext line_profiler\n",
    "%autoreload 2\n"
   ]
  },
  {
   "cell_type": "code",
   "execution_count": 177,
   "metadata": {},
   "outputs": [],
   "source": [
    "import csv\n",
    "import pandas as pd\n",
    "import numpy as np\n",
    "from packer import Packer\n",
    "import matplotlib.pyplot as plt\n",
    "from tqdm import tqdm\n"
   ]
  },
  {
   "cell_type": "code",
   "execution_count": 178,
   "metadata": {},
   "outputs": [
    {
     "name": "stdout",
     "output_type": "stream",
     "text": [
      "    Order_ID  Product_ID  Quantity   L   W\n",
      "0          1           0         5  29  19\n",
      "1          1           1         5  29  19\n",
      "2          1           2        10  29  19\n",
      "3          1           3         4  29  19\n",
      "4          1           4         6  29  19\n",
      "5          1           5        10  29  19\n",
      "6          1           6         2  39  26\n",
      "7          1           7         2  39  26\n",
      "8          1           8         2  46  15\n",
      "9          1           9         2  46  15\n",
      "10         1          10         1  40  26\n",
      "11         1          11         1  40  26\n",
      "12         1          12         2  40  26\n",
      "13         1          13         2  40  26\n",
      "14         1          14         1  40  26\n",
      "15         1          15         1  40  26\n",
      "16         1          16         1  32  21\n",
      "17         1          17         1  32  21\n",
      "18         1          18         1  32  21\n",
      "19         1          19         1  32  21\n",
      "20         2           0         4  39  26\n",
      "21         2           1         2  39  26\n"
     ]
    }
   ],
   "source": [
    "df = pd.read_csv('dataset.csv', sep=',')\n",
    "print(df.head(22))"
   ]
  },
  {
   "cell_type": "code",
   "execution_count": 184,
   "metadata": {},
   "outputs": [
    {
     "name": "stderr",
     "output_type": "stream",
     "text": [
      "100%|██████████| 2361/2361 [01:39<00:00, 23.72it/s]"
     ]
    },
    {
     "name": "stdout",
     "output_type": "stream",
     "text": [
      "10677\n"
     ]
    },
    {
     "name": "stderr",
     "output_type": "stream",
     "text": [
      "\n"
     ]
    },
    {
     "name": "stdout",
     "output_type": "stream",
     "text": [
      "Timer unit: 1e-07 s\n",
      "\n",
      "Total time: 99.5979 s\n",
      "File: C:\\Users\\robbe\\AppData\\Local\\Temp\\ipykernel_21176\\2407271249.py\n",
      "Function: run at line 1\n",
      "\n",
      "Line #      Hits         Time  Per Hit   % Time  Line Contents\n",
      "==============================================================\n",
      "     1                                           def run():\n",
      "     2         1          7.0      7.0      0.0      results = []\n",
      "     3      2362   12355458.0   5230.9      1.2      for order_id, order in tqdm(df.groupby(\"Order_ID\")):\n",
      "     4      2361  233719521.0  98991.7     23.5          packer = Packer(order)\n",
      "     5                                           \n",
      "     6      2361  724285887.0 306770.8     72.7          packer.pack()\n",
      "     7                                           \n",
      "     8      2361   25496105.0  10798.9      2.6          liquid_filling = (order[\"Quantity\"] * order[\"L\"] * order[\"W\"]).sum() / (100*120)\n",
      "     9      2361      53959.0     22.9      0.0          amount_of_layers = len(packer.packed_items.layers)\n",
      "    10      2361      35450.0     15.0      0.0          results.append([order_id, liquid_filling, amount_of_layers])\n",
      "    11                                           \n",
      "    12         1      25583.0  25583.0      0.0      results_df = pd.DataFrame(results, columns=[\"Order_ID\", \"Liquid_Filling\", \"Amount_of_Layers\"])\n",
      "    13         1       7481.0   7481.0      0.0      print(results_df[\"Amount_of_Layers\"].sum())"
     ]
    }
   ],
   "source": [
    "results = []\n",
    "for order_id, order in tqdm(df.groupby(\"Order_ID\")):\n",
    "    packer = Packer(order)\n",
    "\n",
    "    packer.pack()\n",
    "\n",
    "    liquid_filling = (order[\"Quantity\"] * order[\"L\"] * order[\"W\"]).sum() / (100*120)\n",
    "    amount_of_layers = len(packer.packed_items.layers)\n",
    "    results.append([order_id, liquid_filling, amount_of_layers])\n",
    "\n",
    "results_df = pd.DataFrame(results, columns=[\"Order_ID\", \"Liquid_Filling\", \"Amount_of_Layers\"])\n",
    "print(results_df[\"Amount_of_Layers\"].sum())\n",
    "\n"
   ]
  },
  {
   "cell_type": "code",
   "execution_count": 162,
   "metadata": {},
   "outputs": [
    {
     "name": "stdout",
     "output_type": "stream",
     "text": [
      "      Order_ID  Liquid_Filling  Amount_of_Layers     Error\n",
      "1127      1188        6.303917                 9  2.696083\n",
      "1806      1912        6.777500                 9  2.222500\n",
      "717        752        6.866083                 9  2.133917\n",
      "1233      1301        6.926333                 9  2.073667\n",
      "495        516        5.946500                 8  2.053500\n",
      "574        599        6.001167                 8  1.998833\n",
      "1969      2080        5.083167                 7  1.916833\n",
      "1333      1410        6.084000                 8  1.916000\n",
      "2172      2296        6.095167                 8  1.904833\n",
      "1361      1438        4.099417                 6  1.900583\n",
      "10677\n"
     ]
    },
    {
     "data": {
      "image/png": "[encoded data removed]",
      "text/plain": [
       "<Figure size 640x480 with 1 Axes>"
      ]
     },
     "metadata": {},
     "output_type": "display_data"
    }
   ],
   "source": [
    "results_df[\"Error\"] = results_df[\"Amount_of_Layers\"] - results_df[\"Liquid_Filling\"]\n",
    "results_df.sort_values(by=[\"Error\"], ascending=False, inplace=True)\n",
    "print(results_df.head(10))\n",
    "print(results_df[\"Amount_of_Layers\"].sum())\n",
    "plt.scatter(np.ceil(results_df[\"Liquid_Filling\"]), results_df[\"Amount_of_Layers\"])\n",
    "plt.show()"
   ]
  },
  {
   "cell_type": "code",
   "execution_count": 171,
   "metadata": {},
   "outputs": [],
   "source": [
    "# interesting_orders = [1,2151,2421,306]\n",
    "interesting_orders = [1188]"
   ]
  },
  {
   "cell_type": "code",
   "execution_count": 174,
   "metadata": {},
   "outputs": [
    {
     "name": "stdout",
     "output_type": "stream",
     "text": [
      "Order ID:  1188\n",
      " "
     ]
    },
    {
     "name": "stdout",
     "output_type": "stream",
     "text": [
      "         6124 function calls (6067 primitive calls) in 0.026 seconds\n",
      "\n",
      "   Ordered by: internal time\n",
      "\n",
      "   ncalls  tottime  percall  cumtime  percall filename:lineno(function)\n",
      "    20/18    0.018    0.001    0.026    0.001 packer.py:41(find_space_shape)\n",
      "      630    0.002    0.000    0.002    0.000 {method 'reduce' of 'numpy.ufunc' objects}\n",
      "      630    0.001    0.000    0.004    0.000 fromnumeric.py:69(_wrapreduction)\n",
      "      610    0.001    0.000    0.005    0.000 fromnumeric.py:2802(amin)\n",
      "      610    0.001    0.000    0.006    0.000 <__array_function__ internals>:177(amin)\n",
      "  702/648    0.001    0.000    0.006    0.000 {built-in method numpy.core._multiarray_umath.implement_array_function}\n",
      "      630    0.000    0.000    0.000    0.000 fromnumeric.py:70(<dictcomp>)\n",
      "      305    0.000    0.000    0.000    0.000 {built-in method numpy.array}\n",
      "       20    0.000    0.000    0.000    0.000 {built-in method numpy.zeros}\n",
      "    37/36    0.000    0.000    0.000    0.000 spaces.py:35(add_space)\n",
      "       18    0.000    0.000    0.000    0.000 {method 'nonzero' of 'numpy.ndarray' objects}\n",
      "      610    0.000    0.000    0.000    0.000 fromnumeric.py:2797(_amin_dispatcher)\n",
      "       18    0.000    0.000    0.001    0.000 packer.py:94(pack_shape)\n",
      "       18    0.000    0.000    0.000    0.000 spaces.py:14(split_space)\n",
      "      630    0.000    0.000    0.000    0.000 {method 'items' of 'dict' objects}\n",
      "       18    0.000    0.000    0.000    0.000 fromnumeric.py:38(_wrapit)\n",
      "       18    0.000    0.000    0.001    0.000 numeric.py:577(argwhere)\n",
      "        1    0.000    0.000    0.026    0.026 packer.py:30(pack)\n",
      "       36    0.000    0.000    0.000    0.000 fromnumeric.py:51(_wrapfunc)\n",
      "        1    0.000    0.000    0.026    0.026 {built-in method builtins.exec}\n",
      "       18    0.000    0.000    0.000    0.000 {built-in method numpy.asarray}\n",
      "       39    0.000    0.000    0.000    0.000 spaces.py:121(__init__)\n",
      "       20    0.000    0.000    0.000    0.000 <__array_function__ internals>:177(amax)\n",
      "       18    0.000    0.000    0.000    0.000 packer.py:153(add_shape)\n",
      "       20    0.000    0.000    0.000    0.000 fromnumeric.py:2677(amax)\n",
      "       18    0.000    0.000    0.001    0.000 <__array_function__ internals>:177(argwhere)\n",
      "       54    0.000    0.000    0.000    0.000 {built-in method builtins.getattr}\n",
      "       18    0.000    0.000    0.000    0.000 <__array_function__ internals>:177(nonzero)\n",
      "       18    0.000    0.000    0.000    0.000 <__array_function__ internals>:177(transpose)\n",
      "       18    0.000    0.000    0.000    0.000 fromnumeric.py:3121(ndim)\n",
      "       18    0.000    0.000    0.000    0.000 <__array_function__ internals>:177(ndim)\n",
      "       18    0.000    0.000    0.000    0.000 fromnumeric.py:1866(nonzero)\n",
      "       37    0.000    0.000    0.000    0.000 spaces.py:132(is_valid)\n",
      "       18    0.000    0.000    0.000    0.000 fromnumeric.py:601(transpose)\n",
      "       18    0.000    0.000    0.000    0.000 {method 'transpose' of 'numpy.ndarray' objects}\n",
      "       54    0.000    0.000    0.000    0.000 {method 'append' of 'list' objects}\n",
      "        2    0.000    0.000    0.000    0.000 spaces.py:27(add_new_layer)\n",
      "       42    0.000    0.000    0.000    0.000 {built-in method builtins.len}\n",
      "       19    0.000    0.000    0.000    0.000 {method 'pop' of 'list' objects}\n",
      "       18    0.000    0.000    0.000    0.000 numeric.py:573(_argwhere_dispatcher)\n",
      "       20    0.000    0.000    0.000    0.000 fromnumeric.py:2672(_amax_dispatcher)\n",
      "       18    0.000    0.000    0.000    0.000 fromnumeric.py:3117(_ndim_dispatcher)\n",
      "        1    0.000    0.000    0.026    0.026 <string>:1(<module>)\n",
      "       18    0.000    0.000    0.000    0.000 fromnumeric.py:597(_transpose_dispatcher)\n",
      "       18    0.000    0.000    0.000    0.000 fromnumeric.py:1862(_nonzero_dispatcher)\n",
      "        1    0.000    0.000    0.000    0.000 {built-in method builtins.min}\n",
      "        1    0.000    0.000    0.000    0.000 {method 'disable' of '_lsprof.Profiler' objects}"
     ]
    }
   ],
   "source": [
    "order_ids = interesting_orders\n",
    "\n",
    "for order_id in order_ids:\n",
    "    print(\"Order ID: \", order_id)\n",
    "    order = df[df[\"Order_ID\"] == order_id]\n",
    "    packer = Packer(order)\n",
    "    packer.pack()\n",
    "    # packer.visualise()"
   ]
  },
  {
   "cell_type": "code",
   "execution_count": 117,
   "metadata": {},
   "outputs": [
    {
     "name": "stdout",
     "output_type": "stream",
     "text": [
      "[[0.00000000e+00 0.00000000e+00 0.00000000e+00 ... 0.00000000e+00\n",
      "  0.00000000e+00 0.00000000e+00]\n",
      " [0.00000000e+00 8.33333333e-05 1.66666667e-04 ... 7.77777778e-03\n",
      "  8.05555556e-03 8.33333333e-03]\n",
      " [0.00000000e+00 1.66666667e-04 3.33333333e-04 ... 1.55555556e-02\n",
      "  1.61111111e-02 1.66666667e-02]\n",
      " ...\n",
      " [0.00000000e+00 9.33333333e-03 1.86666667e-02 ... 8.71111111e-01\n",
      "  9.02222222e-01 9.33333333e-01]\n",
      " [0.00000000e+00 9.66666667e-03 1.93333333e-02 ... 9.02222222e-01\n",
      "  9.34444444e-01 9.66666667e-01]\n",
      " [0.00000000e+00 1.00000000e-02 2.00000000e-02 ... 9.33333333e-01\n",
      "  9.66666667e-01 1.00000000e+00]]\n",
      "1.0\n"
     ]
    },
    {
     "data": {
      "image/png": "[encoded data removed]",
      "text/plain": [
       "<Figure size 640x480 with 1 Axes>"
      ]
     },
     "metadata": {},
     "output_type": "display_data"
    },
    {
     "data": {
      "text/plain": [
       "[<matplotlib.lines.Line2D at 0x146899d1e40>]"
      ]
     },
     "execution_count": 117,
     "metadata": {},
     "output_type": "execute_result"
    },
    {
     "data": {
      "image/png": "[encoded data removed]",
      "text/plain": [
       "<Figure size 640x480 with 1 Axes>"
      ]
     },
     "metadata": {},
     "output_type": "display_data"
    }
   ],
   "source": [
    "space_width = 120\n",
    "space_height = 100\n",
    "\n",
    "shapes = np.array([[30,60],[50,40],[60,30],[40,50]])\n",
    "\n",
    "min_fits = np.zeros(space_width+1)\n",
    "min_fits.fill(space_height+1)\n",
    "for i in range(space_width):\n",
    "    idx = np.where(shapes[:,0] <= i)[0]\n",
    "    if len(idx) == 0:\n",
    "        continue\n",
    "    min_fits[i] = np.min(shapes[idx,1])\n",
    "\n",
    "\n",
    "scores = np.zeros((space_width+1, space_height+1))\n",
    "\n",
    "for x in range(space_width+1):\n",
    "    for y in range(space_height+1):\n",
    "        # space1_w = shape_width - x; space1_h = shape_height; space2_w = x; space2_h = shape_height - y\n",
    "\n",
    "        min_width = np.min(shapes[:,0])\n",
    "        min_height = np.min(shapes[:,1])\n",
    "\n",
    "        width_cutoff = space_width - min_width\n",
    "        height_cutoff = space_height - min_height\n",
    "\n",
    "        score1_w = (x / space_width) * (x <= width_cutoff)\n",
    "        score1_h = (y / space_height) * (y <= height_cutoff)\n",
    "\n",
    "        # score2_w = (((x - width_cutoff) / (space_width - width_cutoff))) * (x > width_cutoff)\n",
    "        # score2_h = (((y - height_cutoff) / (space_height - height_cutoff))) * (y > height_cutoff)\n",
    "\n",
    "        p = 1\n",
    "        score2_w = 1/(min_width**p) * (x - width_cutoff)**p * (x > width_cutoff)\n",
    "        score2_h = 1/(min_height**p) * (y - height_cutoff)**p * (y > height_cutoff)\n",
    "\n",
    "        width_score = score1_w + score2_w\n",
    "        height_score = score1_h + score2_h\n",
    "\n",
    "        scores[x,y] = width_score * height_score\n",
    "\n",
    "print(scores)\n",
    "print(np.max(scores))\n",
    "plt.imshow(scores)"
   ]
  },
  {
   "cell_type": "code",
   "execution_count": null,
   "metadata": {},
   "outputs": [],
   "source": []
  }
 ],
 "metadata": {
  "kernelspec": {
   "display_name": "py310",
   "language": "python",
   "name": "python3"
  },
  "language_info": {
   "codemirror_mode": {
    "name": "ipython",
    "version": 3
   },
   "file_extension": ".py",
   "mimetype": "text/x-python",
   "name": "python",
   "nbconvert_exporter": "python",
   "pygments_lexer": "ipython3",
   "version": "3.10.9"
  }
 },
 "nbformat": 4,
 "nbformat_minor": 2
}
