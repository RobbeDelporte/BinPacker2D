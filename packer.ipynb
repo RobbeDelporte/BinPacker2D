{
 "cells": [
  {
   "cell_type": "code",
   "execution_count": 1,
   "metadata": {},
   "outputs": [],
   "source": [
    "%load_ext autoreload\n",
    "%autoreload 2\n"
   ]
  },
  {
   "cell_type": "code",
   "execution_count": 2,
   "metadata": {},
   "outputs": [],
   "source": [
    "import csv\n",
    "import pandas as pd\n",
    "import numpy as np\n",
    "from packer import Packer\n"
   ]
  },
  {
   "cell_type": "code",
   "execution_count": 3,
   "metadata": {},
   "outputs": [
    {
     "name": "stdout",
     "output_type": "stream",
     "text": [
      "       Order_ID  Product_ID  Quantity   L   W\n",
      "0             1           0         5  29  19\n",
      "1             1           1         5  29  19\n",
      "2             1           2        10  29  19\n",
      "3             1           3         4  29  19\n",
      "4             1           4         6  29  19\n",
      "...         ...         ...       ...  ..  ..\n",
      "46602      2499          19         6  35  23\n",
      "46603      2499          20         1  35  23\n",
      "46604      2499          21         2  18  18\n",
      "46605      2499          22         1  32  21\n",
      "46606      2499          23         1  32  21\n",
      "\n",
      "[46607 rows x 5 columns]\n"
     ]
    }
   ],
   "source": [
    "df = pd.read_csv('dataset.csv', sep=',')\n",
    "print(df)"
   ]
  },
  {
   "cell_type": "code",
   "execution_count": 15,
   "metadata": {},
   "outputs": [],
   "source": [
    "results = []\n",
    "for order_id, order in df.groupby(\"Order_ID\"):\n",
    "    packer = Packer(order)\n",
    "    try:\n",
    "        packer.pack()\n",
    "        packer.visualise()\n",
    "        break\n",
    "        \n",
    "    except:\n",
    "        continue\n",
    "    liquid_filling = np.ceil((order[\"Quantity\"] * order[\"L\"] * order[\"W\"]).sum() / (100*120))\n",
    "    amount_of_layers = len(packer.layers.layers)\n",
    "    results.append([order_id, liquid_filling, amount_of_layers])\n",
    "\n"
   ]
  },
  {
   "cell_type": "code",
   "execution_count": 14,
   "metadata": {},
   "outputs": [
    {
     "name": "stdout",
     "output_type": "stream",
     "text": [
      "15667\n"
     ]
    },
    {
     "data": {
      "text/plain": [
       "<Axes: xlabel='Liquid_Filling', ylabel='Amount_of_Layers'>"
      ]
     },
     "execution_count": 14,
     "metadata": {},
     "output_type": "execute_result"
    },
    {
     "data": {
      "image/png": "[encoded data removed]",
      "text/plain": [
       "<Figure size 640x480 with 1 Axes>"
      ]
     },
     "metadata": {},
     "output_type": "display_data"
    }
   ],
   "source": [
    "results_df = pd.DataFrame(results, columns=[\"Order_ID\", \"Liquid_Filling\", \"Amount_of_Layers\"])\n",
    "\n",
    "results_df.to_csv(\"results.csv\", index=False)\n",
    "results_df.head()\n",
    "\n",
    "print(results_df[\"Amount_of_Layers\"].sum())\n",
    "\n",
    "results_df.plot.scatter(x=\"Liquid_Filling\", y=\"Amount_of_Layers\")"
   ]
  },
  {
   "cell_type": "code",
   "execution_count": null,
   "metadata": {},
   "outputs": [],
   "source": []
  }
 ],
 "metadata": {
  "kernelspec": {
   "display_name": "py310",
   "language": "python",
   "name": "python3"
  },
  "language_info": {
   "codemirror_mode": {
    "name": "ipython",
    "version": 3
   },
   "file_extension": ".py",
   "mimetype": "text/x-python",
   "name": "python",
   "nbconvert_exporter": "python",
   "pygments_lexer": "ipython3",
   "version": "3.10.13"
  }
 },
 "nbformat": 4,
 "nbformat_minor": 2
}
