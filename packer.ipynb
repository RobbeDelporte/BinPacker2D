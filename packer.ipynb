{
 "cells": [
  {
   "cell_type": "code",
   "execution_count": 1,
   "metadata": {},
   "outputs": [],
   "source": [
    "%load_ext autoreload\n",
    "%autoreload 2\n"
   ]
  },
  {
   "cell_type": "code",
   "execution_count": 2,
   "metadata": {},
   "outputs": [],
   "source": [
    "import csv\n",
    "import pandas as pd\n",
    "import numpy as np\n",
    "from packer import Packer\n"
   ]
  },
  {
   "cell_type": "code",
   "execution_count": 3,
   "metadata": {},
   "outputs": [
    {
     "name": "stdout",
     "output_type": "stream",
     "text": [
      "       Order_ID  Product_ID  Quantity   L   W\n",
      "0             1           0         5  29  19\n",
      "1             1           1         5  29  19\n",
      "2             1           2        10  29  19\n",
      "3             1           3         4  29  19\n",
      "4             1           4         6  29  19\n",
      "...         ...         ...       ...  ..  ..\n",
      "46602      2499          19         6  35  23\n",
      "46603      2499          20         1  35  23\n",
      "46604      2499          21         2  18  18\n",
      "46605      2499          22         1  32  21\n",
      "46606      2499          23         1  32  21\n",
      "\n",
      "[46607 rows x 5 columns]\n"
     ]
    }
   ],
   "source": [
    "df = pd.read_csv('dataset.csv', sep=',')\n",
    "print(df)"
   ]
  },
  {
   "cell_type": "code",
   "execution_count": 5,
   "metadata": {},
   "outputs": [
    {
     "ename": "ValueError",
     "evalue": "zero-size array to reduction operation maximum which has no identity",
     "output_type": "error",
     "traceback": [
      "\u001b[1;31m---------------------------------------------------------------------------\u001b[0m",
      "\u001b[1;31mValueError\u001b[0m                                Traceback (most recent call last)",
      "\u001b[1;32md:\\Projects\\BinPacker\\packer.ipynb Cell 4\u001b[0m line \u001b[0;36m5\n\u001b[0;32m      <a href='vscode-notebook-cell:/d%3A/Projects/BinPacker/packer.ipynb#W2sZmlsZQ%3D%3D?line=1'>2</a>\u001b[0m \u001b[39mfor\u001b[39;00m order_id, order \u001b[39min\u001b[39;00m df\u001b[39m.\u001b[39mgroupby(\u001b[39m\"\u001b[39m\u001b[39mOrder_ID\u001b[39m\u001b[39m\"\u001b[39m):\n\u001b[0;32m      <a href='vscode-notebook-cell:/d%3A/Projects/BinPacker/packer.ipynb#W2sZmlsZQ%3D%3D?line=2'>3</a>\u001b[0m     packer \u001b[39m=\u001b[39m Packer(order)\n\u001b[1;32m----> <a href='vscode-notebook-cell:/d%3A/Projects/BinPacker/packer.ipynb#W2sZmlsZQ%3D%3D?line=4'>5</a>\u001b[0m     packer\u001b[39m.\u001b[39;49mpack()\n\u001b[0;32m      <a href='vscode-notebook-cell:/d%3A/Projects/BinPacker/packer.ipynb#W2sZmlsZQ%3D%3D?line=6'>7</a>\u001b[0m     liquid_filling \u001b[39m=\u001b[39m (order[\u001b[39m\"\u001b[39m\u001b[39mQuantity\u001b[39m\u001b[39m\"\u001b[39m] \u001b[39m*\u001b[39m order[\u001b[39m\"\u001b[39m\u001b[39mL\u001b[39m\u001b[39m\"\u001b[39m] \u001b[39m*\u001b[39m order[\u001b[39m\"\u001b[39m\u001b[39mW\u001b[39m\u001b[39m\"\u001b[39m])\u001b[39m.\u001b[39msum() \u001b[39m/\u001b[39m (\u001b[39m100\u001b[39m\u001b[39m*\u001b[39m\u001b[39m120\u001b[39m)\n\u001b[0;32m      <a href='vscode-notebook-cell:/d%3A/Projects/BinPacker/packer.ipynb#W2sZmlsZQ%3D%3D?line=7'>8</a>\u001b[0m     amount_of_layers \u001b[39m=\u001b[39m \u001b[39mlen\u001b[39m(packer\u001b[39m.\u001b[39mlayers\u001b[39m.\u001b[39mlayers)\n",
      "File \u001b[1;32md:\\Projects\\BinPacker\\packer.py:33\u001b[0m, in \u001b[0;36mPacker.pack\u001b[1;34m(self)\u001b[0m\n\u001b[0;32m     29\u001b[0m \u001b[39mdef\u001b[39;00m \u001b[39mpack\u001b[39m(\u001b[39mself\u001b[39m):\n\u001b[0;32m     31\u001b[0m     \u001b[39mwhile\u001b[39;00m \u001b[39mself\u001b[39m\u001b[39m.\u001b[39mnumber_of_items \u001b[39m>\u001b[39m \u001b[39m0\u001b[39m:\n\u001b[1;32m---> 33\u001b[0m         space_idx, shape_idx \u001b[39m=\u001b[39m \u001b[39mself\u001b[39;49m\u001b[39m.\u001b[39;49mfind_space_shape()\n\u001b[0;32m     35\u001b[0m         \u001b[39m# shape_idx = self.next_shape()\u001b[39;00m\n\u001b[0;32m     36\u001b[0m         \u001b[39m# shape = self.shapes.shapes[shape_idx]\u001b[39;00m\n\u001b[0;32m     37\u001b[0m         \u001b[39m# space_idx = self.find_space(shape)\u001b[39;00m\n\u001b[0;32m     38\u001b[0m         \u001b[39mself\u001b[39m\u001b[39m.\u001b[39mpack_shape(shape_idx,space_idx)\n",
      "File \u001b[1;32md:\\Projects\\BinPacker\\packer.py:81\u001b[0m, in \u001b[0;36mPacker.find_space_shape\u001b[1;34m(self)\u001b[0m\n\u001b[0;32m     78\u001b[0m     wasted_space \u001b[39m=\u001b[39m np\u001b[39m.\u001b[39mabs(space\u001b[39m.\u001b[39mw \u001b[39m*\u001b[39m space\u001b[39m.\u001b[39mh \u001b[39m-\u001b[39m w \u001b[39m*\u001b[39m h)\n\u001b[0;32m     79\u001b[0m     scores[i] \u001b[39m=\u001b[39m (\u001b[39m1\u001b[39m \u001b[39m/\u001b[39m (wasted_space\u001b[39m+\u001b[39m\u001b[39m1e-6\u001b[39m)) \u001b[39m*\u001b[39m fit \u001b[39m*\u001b[39m enough_items\n\u001b[1;32m---> 81\u001b[0m max_score \u001b[39m=\u001b[39m np\u001b[39m.\u001b[39;49mmax(scores)\n\u001b[0;32m     83\u001b[0m \u001b[39m#recursion, yes i know but it works here rather well so whatever\u001b[39;00m\n\u001b[0;32m     84\u001b[0m \u001b[39mif\u001b[39;00m max_score \u001b[39m==\u001b[39m \u001b[39m0\u001b[39m:\n",
      "File \u001b[1;32mc:\\Users\\Robbe Delporte\\miniconda3\\envs\\py310\\lib\\site-packages\\numpy\\core\\fromnumeric.py:2810\u001b[0m, in \u001b[0;36mmax\u001b[1;34m(a, axis, out, keepdims, initial, where)\u001b[0m\n\u001b[0;32m   2692\u001b[0m \u001b[39m@array_function_dispatch\u001b[39m(_max_dispatcher)\n\u001b[0;32m   2693\u001b[0m \u001b[39m@set_module\u001b[39m(\u001b[39m'\u001b[39m\u001b[39mnumpy\u001b[39m\u001b[39m'\u001b[39m)\n\u001b[0;32m   2694\u001b[0m \u001b[39mdef\u001b[39;00m \u001b[39mmax\u001b[39m(a, axis\u001b[39m=\u001b[39m\u001b[39mNone\u001b[39;00m, out\u001b[39m=\u001b[39m\u001b[39mNone\u001b[39;00m, keepdims\u001b[39m=\u001b[39mnp\u001b[39m.\u001b[39m_NoValue, initial\u001b[39m=\u001b[39mnp\u001b[39m.\u001b[39m_NoValue,\n\u001b[0;32m   2695\u001b[0m          where\u001b[39m=\u001b[39mnp\u001b[39m.\u001b[39m_NoValue):\n\u001b[0;32m   2696\u001b[0m \u001b[39m    \u001b[39m\u001b[39m\"\"\"\u001b[39;00m\n\u001b[0;32m   2697\u001b[0m \u001b[39m    Return the maximum of an array or maximum along an axis.\u001b[39;00m\n\u001b[0;32m   2698\u001b[0m \n\u001b[1;32m   (...)\u001b[0m\n\u001b[0;32m   2808\u001b[0m \u001b[39m    5\u001b[39;00m\n\u001b[0;32m   2809\u001b[0m \u001b[39m    \"\"\"\u001b[39;00m\n\u001b[1;32m-> 2810\u001b[0m     \u001b[39mreturn\u001b[39;00m _wrapreduction(a, np\u001b[39m.\u001b[39;49mmaximum, \u001b[39m'\u001b[39;49m\u001b[39mmax\u001b[39;49m\u001b[39m'\u001b[39;49m, axis, \u001b[39mNone\u001b[39;49;00m, out,\n\u001b[0;32m   2811\u001b[0m                           keepdims\u001b[39m=\u001b[39;49mkeepdims, initial\u001b[39m=\u001b[39;49minitial, where\u001b[39m=\u001b[39;49mwhere)\n",
      "File \u001b[1;32mc:\\Users\\Robbe Delporte\\miniconda3\\envs\\py310\\lib\\site-packages\\numpy\\core\\fromnumeric.py:88\u001b[0m, in \u001b[0;36m_wrapreduction\u001b[1;34m(obj, ufunc, method, axis, dtype, out, **kwargs)\u001b[0m\n\u001b[0;32m     85\u001b[0m         \u001b[39melse\u001b[39;00m:\n\u001b[0;32m     86\u001b[0m             \u001b[39mreturn\u001b[39;00m reduction(axis\u001b[39m=\u001b[39maxis, out\u001b[39m=\u001b[39mout, \u001b[39m*\u001b[39m\u001b[39m*\u001b[39mpasskwargs)\n\u001b[1;32m---> 88\u001b[0m \u001b[39mreturn\u001b[39;00m ufunc\u001b[39m.\u001b[39mreduce(obj, axis, dtype, out, \u001b[39m*\u001b[39m\u001b[39m*\u001b[39mpasskwargs)\n",
      "\u001b[1;31mValueError\u001b[0m: zero-size array to reduction operation maximum which has no identity"
     ]
    }
   ],
   "source": [
    "results = []\n",
    "for order_id, order in df.groupby(\"Order_ID\"):\n",
    "    packer = Packer(order)\n",
    "\n",
    "    packer.pack()\n",
    "\n",
    "    liquid_filling = (order[\"Quantity\"] * order[\"L\"] * order[\"W\"]).sum() / (100*120)\n",
    "    amount_of_layers = len(packer.layers.layers)\n",
    "    results.append([order_id, liquid_filling, amount_of_layers])\n",
    "    packer.visualise()\n",
    "    break\n",
    "\n",
    "\n",
    "results_df = pd.DataFrame(results, columns=[\"Order_ID\", \"Liquid_Filling\", \"Amount_of_Layers\"])\n",
    "df.head()\n"
   ]
  },
  {
   "cell_type": "code",
   "execution_count": 7,
   "metadata": {},
   "outputs": [
    {
     "data": {
      "text/html": [
       "<div>\n",
       "<style scoped>\n",
       "    .dataframe tbody tr th:only-of-type {\n",
       "        vertical-align: middle;\n",
       "    }\n",
       "\n",
       "    .dataframe tbody tr th {\n",
       "        vertical-align: top;\n",
       "    }\n",
       "\n",
       "    .dataframe thead th {\n",
       "        text-align: right;\n",
       "    }\n",
       "</style>\n",
       "<table border=\"1\" class=\"dataframe\">\n",
       "  <thead>\n",
       "    <tr style=\"text-align: right;\">\n",
       "      <th></th>\n",
       "      <th>Order_ID</th>\n",
       "      <th>Liquid_Filling</th>\n",
       "      <th>Amount_of_Layers</th>\n",
       "    </tr>\n",
       "  </thead>\n",
       "  <tbody>\n",
       "    <tr>\n",
       "      <th>0</th>\n",
       "      <td>1</td>\n",
       "      <td>3.322000</td>\n",
       "      <td>4</td>\n",
       "    </tr>\n",
       "    <tr>\n",
       "      <th>1</th>\n",
       "      <td>2</td>\n",
       "      <td>3.701667</td>\n",
       "      <td>5</td>\n",
       "    </tr>\n",
       "    <tr>\n",
       "      <th>2</th>\n",
       "      <td>3</td>\n",
       "      <td>3.773833</td>\n",
       "      <td>5</td>\n",
       "    </tr>\n",
       "    <tr>\n",
       "      <th>3</th>\n",
       "      <td>4</td>\n",
       "      <td>5.383500</td>\n",
       "      <td>7</td>\n",
       "    </tr>\n",
       "    <tr>\n",
       "      <th>4</th>\n",
       "      <td>5</td>\n",
       "      <td>2.225833</td>\n",
       "      <td>3</td>\n",
       "    </tr>\n",
       "  </tbody>\n",
       "</table>\n",
       "</div>"
      ],
      "text/plain": [
       "   Order_ID  Liquid_Filling  Amount_of_Layers\n",
       "0         1        3.322000                 4\n",
       "1         2        3.701667                 5\n",
       "2         3        3.773833                 5\n",
       "3         4        5.383500                 7\n",
       "4         5        2.225833                 3"
      ]
     },
     "execution_count": 7,
     "metadata": {},
     "output_type": "execute_result"
    }
   ],
   "source": [
    "\n",
    "results_df = pd.DataFrame(results, columns=[\"Order_ID\", \"Liquid_Filling\", \"Amount_of_Layers\"])\n",
    "results_df.head()"
   ]
  },
  {
   "cell_type": "code",
   "execution_count": null,
   "metadata": {},
   "outputs": [],
   "source": []
  }
 ],
 "metadata": {
  "kernelspec": {
   "display_name": "py310",
   "language": "python",
   "name": "python3"
  },
  "language_info": {
   "codemirror_mode": {
    "name": "ipython",
    "version": 3
   },
   "file_extension": ".py",
   "mimetype": "text/x-python",
   "name": "python",
   "nbconvert_exporter": "python",
   "pygments_lexer": "ipython3",
   "version": "3.10.13"
  }
 },
 "nbformat": 4,
 "nbformat_minor": 2
}
